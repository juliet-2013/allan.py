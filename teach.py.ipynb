{
 "cells": [
  {
   "cell_type": "code",
   "execution_count": 1,
   "metadata": {},
   "outputs": [
    {
     "name": "stdout",
     "output_type": "stream",
     "text": [
      "1\n",
      "3\n",
      "[1, 10, 3, 4, 5]\n",
      "1\n",
      "10\n",
      "3\n",
      "4\n",
      "5\n"
     ]
    }
   ],
   "source": [
    "# Declare and initialize an array\n",
    "numbers = [1, 2, 3, 4, 5]\n",
    "\n",
    "# Access array elements\n",
    "print(numbers[0])  # Output: 1\n",
    "print(numbers[2])  # Output: 3\n",
    "\n",
    "# Modify array elements\n",
    "numbers[1] = 10\n",
    "print(numbers)  # Output: [1, 10, 3, 4, 5]\n",
    "\n",
    "\n",
    "for num in numbers:\n",
    "    print(num)\n",
    "\n",
    "# Output:\n",
    "# 1\n",
    "# 10\n",
    "# 3\n",
    "# 4\n",
    "# 5\n"
   ]
  },
  {
   "cell_type": "code",
   "execution_count": null,
   "metadata": {},
   "outputs": [],
   "source": []
  }
 ],
 "metadata": {
  "kernelspec": {
   "display_name": "python (learn-env)",
   "language": "python",
   "name": "learn-env"
  },
  "language_info": {
   "codemirror_mode": {
    "name": "ipython",
    "version": 3
   },
   "file_extension": ".py",
   "mimetype": "text/x-python",
   "name": "python",
   "nbconvert_exporter": "python",
   "pygments_lexer": "ipython3",
   "version": "3.8.5"
  }
 },
 "nbformat": 4,
 "nbformat_minor": 4
}
